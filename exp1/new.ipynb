{
 "cells": [
  {
   "cell_type": "code",
   "execution_count": 596,
   "metadata": {},
   "outputs": [],
   "source": [
    "MINGWEN:str = 'itisaesclass1234'\n",
    "KEY:str = 'securitysecurity'"
   ]
  },
  {
   "cell_type": "code",
   "execution_count": 597,
   "metadata": {},
   "outputs": [],
   "source": [
    "def char_to_binary(character)->int:\n",
    "    ascii_value = ord(character)\n",
    "    return int(ascii_value)"
   ]
  },
  {
   "cell_type": "code",
   "execution_count": 598,
   "metadata": {},
   "outputs": [],
   "source": [
    "def convertToINTArray(s:str)->list:\n",
    "    init = []\n",
    "    for i in range(4):\n",
    "        t = []\n",
    "        for j in range(4):\n",
    "            t.append(char_to_binary(s[i+4*j]))\n",
    "        init.append(t)\n",
    "    return init"
   ]
  },
  {
   "cell_type": "code",
   "execution_count": 599,
   "metadata": {},
   "outputs": [],
   "source": [
    "S = [[0x63, 0x7c, 0x77, 0x7b, 0xf2, 0x6b, 0x6f, 0xc5,\n",
    "      0x30, 0x01, 0x67, 0x2b, 0xfe, 0xd7, 0xab, 0x76],\n",
    "     [0xca, 0x82, 0xc9, 0x7d, 0xfa, 0x59, 0x47, 0xf0,\n",
    "      0xad, 0xd4, 0xa2, 0xaf, 0x9c, 0xa4, 0x72, 0xc0],\n",
    "     [0xb7, 0xfd, 0x93, 0x26, 0x36, 0x3f, 0xf7, 0xcc,\n",
    "      0x34, 0xa5, 0xe5, 0xf1, 0x71, 0xd8, 0x31, 0x15],\n",
    "     [0x04, 0xc7, 0x23, 0xc3, 0x18, 0x96, 0x05, 0x9a,\n",
    "      0x07, 0x12, 0x80, 0xe2, 0xeb, 0x27, 0xb2, 0x75],\n",
    "     [0x09, 0x83, 0x2c, 0x1a, 0x1b, 0x6e, 0x5a, 0xa0,\n",
    "      0x52, 0x3b, 0xd6, 0xb3, 0x29, 0xe3, 0x2f, 0x84],\n",
    "     [0x53, 0xd1, 0x00, 0xed, 0x20, 0xfc, 0xb1, 0x5b,\n",
    "      0x6a, 0xcb, 0xbe, 0x39, 0x4a, 0x4c, 0x58, 0xcf],\n",
    "     [0xd0, 0xef, 0xaa, 0xfb, 0x43, 0x4d, 0x33, 0x85,\n",
    "      0x45, 0xf9, 0x02, 0x7f, 0x50, 0x3c, 0x9f, 0xa8],\n",
    "     [0x51, 0xa3, 0x40, 0x8f, 0x92, 0x9d, 0x38, 0xf5,\n",
    "      0xbc, 0xb6, 0xda, 0x21, 0x10, 0xff, 0xf3, 0xd2],\n",
    "     [0xcd, 0x0c, 0x13, 0xec, 0x5f, 0x97, 0x44, 0x17,\n",
    "      0xc4, 0xa7, 0x7e, 0x3d, 0x64, 0x5d, 0x19, 0x73],\n",
    "     [0x60, 0x81, 0x4f, 0xdc, 0x22, 0x2a, 0x90, 0x88,\n",
    "      0x46, 0xee, 0xb8, 0x14, 0xde, 0x5e, 0x0b, 0xdb],\n",
    "     [0xe0, 0x32, 0x3a, 0x0a, 0x49, 0x06, 0x24, 0x5c,\n",
    "      0xc2, 0xd3, 0xac, 0x62, 0x91, 0x95, 0xe4, 0x79],\n",
    "     [0xe7, 0xc8, 0x37, 0x6d, 0x8d, 0xd5, 0x4e, 0xa9,\n",
    "      0x6c, 0x56, 0xf4, 0xea, 0x65, 0x7a, 0xae, 0x08],\n",
    "     [0xba, 0x78, 0x25, 0x2e, 0x1c, 0xa6, 0xb4, 0xc6,\n",
    "      0xe8, 0xdd, 0x74, 0x1f, 0x4b, 0xbd, 0x8b, 0x8a],\n",
    "     [0x70, 0x3e, 0xb5, 0x66, 0x48, 0x03, 0xf6, 0x0e,\n",
    "      0x61, 0x35, 0x57, 0xb9, 0x86, 0xc1, 0x1d, 0x9e],\n",
    "     [0xe1, 0xf8, 0x98, 0x11, 0x69, 0xd9, 0x8e, 0x94,\n",
    "      0x9b, 0x1e, 0x87, 0xe9, 0xce, 0x55, 0x28, 0xdf],\n",
    "     [0x8c, 0xa1, 0x89, 0x0d, 0xbf, 0xe6, 0x42, 0x68,\n",
    "      0x41, 0x99, 0x2d, 0x0f, 0xb0, 0x54, 0xbb, 0x16]]\n",
    "\n",
    "S1 = [[0x52, 0x09, 0x6a, 0xd5, 0x30, 0x36, 0xa5, 0x38, 0xbf, 0x40, 0xa3, 0x9e, 0x81, 0xf3, 0xd7, 0xfb],\n",
    "      [0x7c, 0xe3, 0x39, 0x82, 0x9b, 0x2f, 0xff, 0x87, 0x34, 0x8e, 0x43, 0x44, 0xc4, 0xde, 0xe9, 0xcb],\n",
    "      [0x54, 0x7b, 0x94, 0x32, 0xa6, 0xc2, 0x23, 0x3d, 0xee, 0x4c, 0x95, 0x0b, 0x42, 0xfa, 0xc3, 0x4e],\n",
    "      [0x08, 0x2e, 0xa1, 0x66, 0x28, 0xd9, 0x24, 0xb2, 0x76, 0x5b, 0xa2, 0x49, 0x6d, 0x8b, 0xd1, 0x25],\n",
    "      [0x72, 0xf8, 0xf6, 0x64, 0x86, 0x68, 0x98, 0x16, 0xd4, 0xa4, 0x5c, 0xcc, 0x5d, 0x65, 0xb6, 0x92],\n",
    "      [0x6c, 0x70, 0x48, 0x50, 0xfd, 0xed, 0xb9, 0xda, 0x5e, 0x15, 0x46, 0x57, 0xa7, 0x8d, 0x9d, 0x84],\n",
    "      [0x90, 0xd8, 0xab, 0x00, 0x8c, 0xbc, 0xd3, 0x0a, 0xf7, 0xe4, 0x58, 0x05, 0xb8, 0xb3, 0x45, 0x06],\n",
    "      [0xd0, 0x2c, 0x1e, 0x8f, 0xca, 0x3f, 0x0f, 0x02, 0xc1, 0xaf, 0xbd, 0x03, 0x01, 0x13, 0x8a, 0x6b],\n",
    "      [0x3a, 0x91, 0x11, 0x41, 0x4f, 0x67, 0xdc, 0xea, 0x97, 0xf2, 0xcf, 0xce, 0xf0, 0xb4, 0xe6, 0x73],\n",
    "      [0x96, 0xac, 0x74, 0x22, 0xe7, 0xad, 0x35, 0x85, 0xe2, 0xf9, 0x37, 0xe8, 0x1c, 0x75, 0xdf, 0x6e],\n",
    "      [0x47, 0xf1, 0x1a, 0x71, 0x1d, 0x29, 0xc5, 0x89, 0x6f, 0xb7, 0x62, 0x0e, 0xaa, 0x18, 0xbe, 0x1b],\n",
    "      [0xfc, 0x56, 0x3e, 0x4b, 0xc6, 0xd2, 0x79, 0x20, 0x9a, 0xdb, 0xc0, 0xfe, 0x78, 0xcd, 0x5a, 0xf4],\n",
    "      [0x1f, 0xdd, 0xa8, 0x33, 0x88, 0x07, 0xc7, 0x31, 0xb1, 0x12, 0x10, 0x59, 0x27, 0x80, 0xec, 0x5f],\n",
    "      [0x60, 0x51, 0x7f, 0xa9, 0x19, 0xb5, 0x4a, 0x0d, 0x2d, 0xe5, 0x7a, 0x9f, 0x93, 0xc9, 0x9c, 0xef],\n",
    "      [0xa0, 0xe0, 0x3b, 0x4d, 0xae, 0x2a, 0xf5, 0xb0, 0xc8, 0xeb, 0xbb, 0x3c, 0x83, 0x53, 0x99, 0x61],\n",
    "      [0x17, 0x2b, 0x04, 0x7e, 0xba, 0x77, 0xd6, 0x26, 0xe1, 0x69, 0x14, 0x63, 0x55, 0x21, 0x0c, 0x7d]]      \n"
   ]
  },
  {
   "cell_type": "code",
   "execution_count": 600,
   "metadata": {},
   "outputs": [],
   "source": [
    "def getL_R(ele:int):\n",
    "    return (ele>>4)&0x0f, ele&0x0f\n",
    "\n",
    "def subBytes(ls:list):\n",
    "    for i in range(4):\n",
    "        for j in range(4):\n",
    "            x, y = getL_R(ls[i][j])\n",
    "            ls[i][j] = S[x][y]\n",
    "\n",
    "def desubBytes(ls:list):\n",
    "    for i in range(4):\n",
    "        for j in range(4):\n",
    "            x, y = getL_R(ls[i][j])\n",
    "            ls[i][j] = S1[x][y]"
   ]
  },
  {
   "cell_type": "code",
   "execution_count": 601,
   "metadata": {},
   "outputs": [],
   "source": [
    "## 行移位与逆行移位\n",
    "def shiftRows(ls:list):\n",
    "    for i in range(len(ls)):\n",
    "        ls[i] = ls[i][i:] + ls[i][:i]\n",
    "    \n",
    "def deshiftRows(ls:list):\n",
    "    for i in range(len(ls)):\n",
    "        ls[i] = ls[i][-i:] + ls[i][:-i]"
   ]
  },
  {
   "cell_type": "code",
   "execution_count": 602,
   "metadata": {},
   "outputs": [],
   "source": [
    "ColM = [[2, 3, 1, 1],\n",
    "        [1, 2, 3, 1],\n",
    "        [1, 1, 2, 3],\n",
    "        [3, 1, 1, 2]]\n",
    "deColM = [[0xe, 0xb, 0xd, 0x9],\n",
    "          [0x9, 0xe, 0xb, 0xd],\n",
    "          [0xd, 0x9, 0xe, 0xb],\n",
    "          [0xb, 0xd, 0x9, 0xe]]"
   ]
  },
  {
   "cell_type": "code",
   "execution_count": 603,
   "metadata": {},
   "outputs": [],
   "source": [
    "def GFMul(n:int, s:int)->int:\n",
    "    \"\"\"\n",
    "    Args:\n",
    "        n (int): _description_ 矩阵中的值,只取低4位\n",
    "        s (int): _description_\n",
    "\n",
    "    Returns:\n",
    "        int: _description_\n",
    "    \"\"\"\n",
    "    n &= 0x0f\n",
    "    s &= 0xff\n",
    "    sum = s \n",
    "    result = 0 \n",
    "    while n!=0:\n",
    "        if n & 0x01:\n",
    "            result = result ^ sum\n",
    "        n = n>>1\n",
    "        sum = GFMul2(sum)\n",
    "    return result\n",
    "    \n",
    "def GFMul2(s:int)->int:\n",
    "    \"\"\"_summary_\n",
    "    累计计算s*x, s*x^2\n",
    "    Args:\n",
    "        s (int): _description_\n",
    "\n",
    "    Returns:\n",
    "        int: _description_\n",
    "    \"\"\"\n",
    "    result = s<<1\n",
    "    a7 = result & 0x00000100\n",
    "    if a7 != 0:\n",
    "        result = result & 0x000000ff\n",
    "        result = result ^ 0x1b\n",
    "    return result"
   ]
  },
  {
   "cell_type": "code",
   "execution_count": 604,
   "metadata": {},
   "outputs": [],
   "source": [
    "def mixColumns(ls:list):\n",
    "    result = [[0] * 4 for _ in range(4)]\n",
    "    for i in range(4):\n",
    "        for j in range(4):\n",
    "            result[i][j] = ls[i][j]\n",
    "    for i in range(4):\n",
    "        for j in range(4):\n",
    "            ls[i][j] =GFMul(ColM[i][0],result[0][j])^GFMul(ColM[i][1],result[1][j])^GFMul(ColM[i][2],result[2][j])^GFMul(ColM[i][3],result[3][j])"
   ]
  },
  {
   "cell_type": "code",
   "execution_count": 605,
   "metadata": {},
   "outputs": [],
   "source": [
    "def deMixColumns(ls:list):\n",
    "    result = [[0] * 4 for _ in range(4)]\n",
    "    for i in range(4):\n",
    "        for j in range(4):\n",
    "            result[i][j] = ls[i][j]\n",
    "    for i in range(4):\n",
    "        for j in range(4):\n",
    "            ls[i][j] =GFMul(deColM[i][0],result[0][j])^GFMul(deColM[i][1],result[1][j])^GFMul(deColM[i][2],result[2][j])^GFMul(deColM[i][3],result[3][j])"
   ]
  },
  {
   "cell_type": "code",
   "execution_count": 606,
   "metadata": {},
   "outputs": [],
   "source": [
    "# Rcon = [0x01000000, 0x02000000,\n",
    "#         0x04000000, 0x08000000,\n",
    "#         0x10000000, 0x20000000,\n",
    "#         0x40000000, 0x80000000,\n",
    "#         0x1b000000, 0x36000000]\n",
    "Rcon = [[ 0x01,0x00, 0x00, 0x00],\n",
    "        [ 0x02,0x00, 0x00, 0x00],\n",
    "        [ 0x04,0x00, 0x00, 0x00],\n",
    "        [ 0x08,0x00, 0x00, 0x00],\n",
    "        [ 0x10,0x00, 0x00, 0x00],\n",
    "        [ 0x20,0x00, 0x00, 0x00],\n",
    "        [ 0x40,0x00, 0x00, 0x00],\n",
    "        [ 0x80,0x00, 0x00, 0x00],\n",
    "        [ 0x1b,0x00, 0x00, 0x00],\n",
    "        [ 0x36,0x00, 0x00, 0x00]]"
   ]
  },
  {
   "cell_type": "code",
   "execution_count": 607,
   "metadata": {},
   "outputs": [],
   "source": [
    "def addRoundKey(ls:list, round:int)->None:\n",
    "    \"\"\"_summary_\n",
    "\n",
    "    Args:\n",
    "        ls (list): _description_\n",
    "        round (int): _description_ round循环round共有10轮，区间[1，10]。额外的一个算0\n",
    "    \"\"\"\n",
    "    global W\n",
    "    for j in range(4):\n",
    "        for i in range(4):\n",
    "            ls[i][j] = ls[i][j] ^ W[round*4+j][i]"
   ]
  },
  {
   "cell_type": "code",
   "execution_count": 608,
   "metadata": {},
   "outputs": [],
   "source": [
    "def T(numls:list, round:int)->list:\n",
    "    result = []\n",
    "    numls = numls[1:] + numls[:1]\n",
    "    for i in range(len(numls)):\n",
    "        x, y = getL_R(numls[i])\n",
    "        numls[i] = S[x][y]\n",
    "    result = [x^y for x, y in zip(numls, Rcon[round])]\n",
    "    return result\n",
    "\n",
    "def extendKey(K_init:list)->list:\n",
    "    W = [0 for i in range(44)]\n",
    "    NK = 4\n",
    "    for i in range(44):\n",
    "        if i<4:\n",
    "            W[i] = [K_init[0][i], K_init[1][i],\n",
    "                    K_init[2][i], K_init[3][i]]\n",
    "        else:\n",
    "            temp = W[i-1].copy()\n",
    "            if i%NK==0:\n",
    "                temp = T(temp, (i//NK)-1)\n",
    "            W[i] = [x^y for x,y in zip(W[i-NK], temp)]\n",
    "    return W"
   ]
  },
  {
   "cell_type": "code",
   "execution_count": 609,
   "metadata": {},
   "outputs": [],
   "source": [
    "def printW()->None:\n",
    "    for i in range(len(W)):\n",
    "        s = '0x'\n",
    "        for ele in W[i]:\n",
    "            s += hex(ele)[-2:].replace('x', '0')\n",
    "        print(f'W[{i}]:{s}')\n",
    "        \n",
    "def convertArrayToStr(ls:list)->str:\n",
    "    s = ''\n",
    "    for j in range(4):\n",
    "        for i in range(4):\n",
    "            print(hex(ls[i][j]), end=' ')\n",
    "    print('')\n",
    "            \n",
    "    "
   ]
  },
  {
   "cell_type": "code",
   "execution_count": 610,
   "metadata": {},
   "outputs": [],
   "source": [
    "def aes():\n",
    "    if len(MINGWEN)==0 or len(MINGWEN)%16!=0:\n",
    "        print(\"明文字符必须是16的倍数\")\n",
    "        exit()\n",
    "    if len(KEY)!=16:\n",
    "        print(\"密钥长度必须为16\")\n",
    "        exit()\n",
    "    global W\n",
    "    W = extendKey(convertToINTArray(KEY))\n",
    "    # printW()\n",
    "    for i in range(0, len(MINGWEN), 16):\n",
    "        parray =  convertToINTArray(MINGWEN[i:i+16]) \n",
    "        # print(parray)\n",
    "        addRoundKey(parray, 0)\n",
    "        for i in range(1,10,1):\n",
    "            # print(parray)\n",
    "            subBytes(parray)\n",
    "            # print(parray)\n",
    "            shiftRows(parray)\n",
    "            # print(parray)\n",
    "            mixColumns(parray)\n",
    "            # print(parray)\n",
    "            addRoundKey(parray, i)\n",
    "        # print(parray)\n",
    "        subBytes(parray)\n",
    "        # print(parray)\n",
    "        shiftRows(parray)\n",
    "        # print(parray)\n",
    "        addRoundKey(parray, 10)\n",
    "    return parray\n",
    "            "
   ]
  },
  {
   "cell_type": "code",
   "execution_count": 611,
   "metadata": {},
   "outputs": [],
   "source": [
    "def deaes(ls:list):\n",
    "    addRoundKey(ls, 10)\n",
    "    # print(ls)\n",
    "    deshiftRows(ls)\n",
    "    # print(ls)\n",
    "    desubBytes(ls)\n",
    "    # print(ls)\n",
    "    for i in range(9,0,-1):\n",
    "        addRoundKey(ls, i)\n",
    "        # print(ls)\n",
    "        deMixColumns(ls)\n",
    "        # print(ls)\n",
    "        deshiftRows(ls)\n",
    "        # print(ls)\n",
    "        desubBytes(ls)\n",
    "        # print(ls)\n",
    "    addRoundKey(ls, 0)\n",
    "    # print(ls)\n",
    "    return ls    "
   ]
  },
  {
   "cell_type": "code",
   "execution_count": 612,
   "metadata": {},
   "outputs": [
    {
     "name": "stdout",
     "output_type": "stream",
     "text": [
      "[[105, 97, 108, 49], [116, 101, 97, 50], [105, 115, 115, 51], [115, 99, 115, 52]]\n",
      "[[16, 240, 50, 100], [20, 120, 37, 126], [115, 84, 107, 248], [45, 252, 149, 144]]\n",
      "0x10 0x14 0x73 0x2d 0xf0 0x78 0x54 0xfc 0x32 0x25 0x6b 0x95 0x64 0x7e 0xf8 0x90 \n",
      "[[105, 97, 108, 49], [116, 101, 97, 50], [105, 115, 115, 51], [115, 99, 115, 52]]\n",
      "W[0]:0x73656375\n",
      "W[1]:0x72697479\n",
      "W[2]:0x73656375\n",
      "W[3]:0x72697479\n",
      "W[4]:0x8bf7d535\n",
      "W[5]:0xf99ea14c\n",
      "W[6]:0x8afbc239\n",
      "W[7]:0xf892b640\n",
      "W[8]:0xc6b9dc74\n",
      "W[9]:0x3f277d38\n",
      "W[10]:0xb5dcbf01\n",
      "W[11]:0x4d4e0941\n",
      "W[12]:0xedb85f97\n",
      "W[13]:0xd29f22af\n",
      "W[14]:0x67439dae\n",
      "W[15]:0x2a0d94ef\n",
      "W[16]:0x329a8072\n",
      "W[17]:0xe005a2dd\n",
      "W[18]:0x87463f73\n",
      "W[19]:0xad4bab9c\n",
      "W[20]:0x91f85ee7\n",
      "W[21]:0x71fdfc3a\n",
      "W[22]:0xf6bbc349\n",
      "W[23]:0x5bf068d5\n",
      "W[24]:0x3dbd5dde\n",
      "W[25]:0x4c40a1e4\n",
      "W[26]:0xbafb62ad\n",
      "W[27]:0xe10b0a78\n",
      "W[28]:0x56dae126\n",
      "W[29]:0x1a9a40c2\n",
      "W[30]:0xa061226f\n",
      "W[31]:0x416a2817\n",
      "W[32]:0xd4ee11a5\n",
      "W[33]:0xce745167\n",
      "W[34]:0x6e157308\n",
      "W[35]:0x2f7f5b1f\n",
      "W[36]:0x1dd7d1b0\n",
      "W[37]:0xd3a380d7\n",
      "W[38]:0xbdb6f3df\n",
      "W[39]:0x92c9a8c0\n",
      "W[40]:0xf6156bff\n",
      "W[41]:0x25b6eb28\n",
      "W[42]:0x980018f7\n",
      "W[43]:0x0ac9b037\n",
      "0x69 0x74 0x69 0x73 0x61 0x65 0x73 0x63 0x6c 0x61 0x73 0x73 0x31 0x32 0x33 0x34 \n"
     ]
    }
   ],
   "source": [
    "W = []\n",
    "print(convertToINTArray(MINGWEN))\n",
    "jiami = aes()\n",
    "print(jiami)\n",
    "convertArrayToStr(jiami)\n",
    "# print('*'*10)\n",
    "# print(jiami)\n",
    "# print('*'*10)\n",
    "\n",
    "dejiami = deaes(jiami)\n",
    "print(dejiami)\n",
    "printW()\n",
    "convertArrayToStr(dejiami)"
   ]
  },
  {
   "cell_type": "code",
   "execution_count": 613,
   "metadata": {},
   "outputs": [
    {
     "name": "stdout",
     "output_type": "stream",
     "text": [
      "itisaesclass1234"
     ]
    }
   ],
   "source": [
    "for j in range(4):\n",
    "    for i in range(4):\n",
    "        print(chr(dejiami[i][j]), end='')"
   ]
  },
  {
   "cell_type": "code",
   "execution_count": 614,
   "metadata": {},
   "outputs": [],
   "source": [
    "# print(ord('#'))用对象\n",
    "# 0x69 0x61 0x6c 0x31 0x74 0x65 0x61 0x32 0x69 0x73 0x73 0x33 0x73 0x63 0x73 0x34 \n",
    "# 0x10 0xf0 0x32 0x64 0x14 0x78 0x25 0x7e 0x73 0x54 0x6b 0xf8 0x2d 0xfc 0x95 0x90 "
   ]
  },
  {
   "cell_type": "code",
   "execution_count": 615,
   "metadata": {},
   "outputs": [
    {
     "data": {
      "text/plain": [
       "16"
      ]
     },
     "execution_count": 615,
     "metadata": {},
     "output_type": "execute_result"
    }
   ],
   "source": [
    "int('10', 16)"
   ]
  },
  {
   "cell_type": "code",
   "execution_count": 616,
   "metadata": {},
   "outputs": [
    {
     "name": "stdout",
     "output_type": "stream",
     "text": [
      "0b100111101100000\n"
     ]
    }
   ],
   "source": [
    "print(bin(ord(\"你\")))"
   ]
  },
  {
   "cell_type": "code",
   "execution_count": 617,
   "metadata": {},
   "outputs": [
    {
     "name": "stdout",
     "output_type": "stream",
     "text": [
      "[100, 3, 4]\n",
      "[1, 3]\n"
     ]
    }
   ],
   "source": [
    "a = [1,3,4]\n",
    "b = a[:2]\n",
    "a[0]=100\n",
    "print(a)\n",
    "print(b)"
   ]
  },
  {
   "cell_type": "code",
   "execution_count": 620,
   "metadata": {},
   "outputs": [
    {
     "name": "stdout",
     "output_type": "stream",
     "text": [
      "明文字符必须是16的倍数,将采用重复补齐\n",
      "FULONGFEI22011FU\n",
      "16\n"
     ]
    }
   ],
   "source": [
    "MINGWEN = 'FULONGFEI22011'\n",
    "\n",
    "if len(MINGWEN)==0 or len(MINGWEN)%16!=0:\n",
    "        print(\"明文字符必须是16的倍数,将采用重复补齐\")\n",
    "        originlen = len(MINGWEN)\n",
    "        index = 0\n",
    "        while len(MINGWEN)%16!=0:\n",
    "            MINGWEN += MINGWEN[index]\n",
    "            index += 1\n",
    "            index %= originlen\n",
    "print(MINGWEN)\n",
    "print(len(MINGWEN))"
   ]
  },
  {
   "cell_type": "code",
   "execution_count": 626,
   "metadata": {},
   "outputs": [
    {
     "name": "stdout",
     "output_type": "stream",
     "text": [
      "199\n",
      "1\n",
      "199\n"
     ]
    }
   ],
   "source": [
    "a = '199'\n",
    "def add():\n",
    "    print(a[0])\n",
    "print(a)\n",
    "add()\n",
    "print(a)"
   ]
  }
 ],
 "metadata": {
  "kernelspec": {
   "display_name": "Python 3",
   "language": "python",
   "name": "python3"
  },
  "language_info": {
   "codemirror_mode": {
    "name": "ipython",
    "version": 3
   },
   "file_extension": ".py",
   "mimetype": "text/x-python",
   "name": "python",
   "nbconvert_exporter": "python",
   "pygments_lexer": "ipython3",
   "version": "3.11.9"
  }
 },
 "nbformat": 4,
 "nbformat_minor": 2
}
